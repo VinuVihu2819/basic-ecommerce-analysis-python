{
  "nbformat": 4,
  "nbformat_minor": 0,
  "metadata": {
    "colab": {
      "provenance": []
    },
    "kernelspec": {
      "name": "python3",
      "display_name": "Python 3"
    },
    "language_info": {
      "name": "python"
    }
  },
  "cells": [
    {
      "cell_type": "code",
      "execution_count": 1,
      "metadata": {
        "colab": {
          "base_uri": "https://localhost:8080/"
        },
        "id": "pCXcbkj-NfDE",
        "outputId": "d71c6c39-978d-4707-895d-ca8e99ee2e36"
      },
      "outputs": [
        {
          "output_type": "stream",
          "name": "stdout",
          "text": [
            "Data setup complete!\n"
          ]
        }
      ],
      "source": [
        "# --- Basic E-commerce Data Analysis Project ---\n",
        "# This project demonstrates fundamental Python concepts (data types,\n",
        "# control flow, functions, lists, dictionaries) by performing\n",
        "# simple analysis on a simulated e-commerce dataset.\n",
        "\n",
        "# --- 1. Data Setup ---\n",
        "# We'll represent our data using lists of dictionaries,\n",
        "# where each dictionary is a record (like a row in a database table).\n",
        "\n",
        "# Sample Customer Data (List of Dictionaries)\n",
        "# Each dictionary represents a customer with their ID, name, age, and gender.\n",
        "customers = [\n",
        "    {\"customer_id\": 1, \"name\": \"Alice\", \"age\": 30, \"gender\": \"Female\"},\n",
        "    {\"customer_id\": 2, \"name\": \"Bob\", \"age\": 24, \"gender\": \"Male\"},\n",
        "    {\"customer_id\": 3, \"name\": \"Carol\", \"age\": 35, \"gender\": \"Female\"},\n",
        "    {\"customer_id\": 4, \"name\": \"David\", \"age\": 29, \"gender\": \"Male\"},\n",
        "    {\"customer_id\": 5, \"name\": \"Eve\", \"age\": 22, \"gender\": \"Female\"},\n",
        "    {\"customer_id\": 6, \"name\": \"Frank\", \"age\": 40, \"gender\": \"Male\"},\n",
        "    {\"customer_id\": 7, \"name\": \"Grace\", \"age\": 28, \"gender\": \"Female\"},\n",
        "    {\"customer_id\": 8, \"name\": \"Henry\", \"age\": 32, \"gender\": \"Male\"}\n",
        "]\n",
        "\n",
        "# Sample Product Data (List of Dictionaries)\n",
        "# Each dictionary represents a product with its ID, name, and price.\n",
        "products = [\n",
        "    {\"product_id\": 101, \"name\": \"Laptop\", \"price\": 1200.00},\n",
        "    {\"product_id\": 102, \"name\": \"Mouse\", \"price\": 25.50},\n",
        "    {\"product_id\": 103, \"name\": \"Keyboard\", \"price\": 75.00},\n",
        "    {\"product_id\": 104, \"name\": \"Monitor\", \"price\": 300.00},\n",
        "    {\"product_id\": 105, \"name\": \"Webcam\", \"price\": 50.00},\n",
        "    {\"product_id\": 106, \"name\": \"Headphones\", \"price\": 150.00}\n",
        "]\n",
        "\n",
        "# Sample Order Data (List of Dictionaries)\n",
        "# Each dictionary represents an order, linking customer, product, quantity, and date.\n",
        "orders = [\n",
        "    {\"order_id\": 1001, \"customer_id\": 1, \"product_id\": 101, \"quantity\": 1, \"date\": \"2025-01-15\"},\n",
        "    {\"order_id\": 1002, \"customer_id\": 2, \"product_id\": 102, \"quantity\": 2, \"date\": \"2025-01-16\"},\n",
        "    {\"order_id\": 1003, \"customer_id\": 1, \"product_id\": 103, \"quantity\": 1, \"date\": \"2025-01-17\"},\n",
        "    {\"order_id\": 1004, \"customer_id\": 4, \"product_id\": 101, \"quantity\": 1, \"date\": \"2025-01-18\"},\n",
        "    {\"order_id\": 1005, \"customer_id\": 2, \"product_id\": 105, \"quantity\": 3, \"date\": \"2025-01-19\"},\n",
        "    {\"order_id\": 1006, \"customer_id\": 3, \"product_id\": 104, \"quantity\": 1, \"date\": \"2025-01-20\"},\n",
        "    {\"order_id\": 1007, \"customer_id\": 1, \"product_id\": 102, \"quantity\": 1, \"date\": \"2025-01-21\"},\n",
        "    {\"order_id\": 1008, \"customer_id\": 5, \"product_id\": 106, \"quantity\": 1, \"date\": \"2025-01-22\"},\n",
        "    {\"order_id\": 1009, \"customer_id\": 4, \"product_id\": 103, \"quantity\": 2, \"date\": \"2025-01-23\"},\n",
        "    {\"order_id\": 1010, \"customer_id\": 6, \"product_id\": 101, \"quantity\": 1, \"date\": \"2025-01-24\"},\n",
        "    {\"order_id\": 1011, \"customer_id\": 7, \"product_id\": 105, \"quantity\": 1, \"date\": \"2025-01-25\"},\n",
        "    {\"order_id\": 1012, \"customer_id\": 8, \"product_id\": 104, \"quantity\": 1, \"date\": \"2025-01-26\"},\n",
        "    {\"order_id\": 1013, \"customer_id\": 1, \"product_id\": 106, \"quantity\": 1, \"date\": \"2025-01-27\"},\n",
        "]\n",
        "\n",
        "print(\"Data setup complete!\")\n",
        "# You can uncomment the following lines to inspect the data:\n",
        "# print(\"\\nCustomers Data:\")\n",
        "# for customer in customers:\n",
        "#     print(customer)\n",
        "# print(\"\\nProducts Data:\")\n",
        "# for product in products:\n",
        "#     print(product)\n",
        "# print(\"\\nOrders Data:\")\n",
        "# for order in orders:\n",
        "#     print(order)"
      ]
    },
    {
      "cell_type": "code",
      "source": [
        "# Calculating the Total Revenue."
      ],
      "metadata": {
        "id": "Y97squ_tOIBN"
      },
      "execution_count": 2,
      "outputs": []
    },
    {
      "cell_type": "code",
      "source": [
        "# --- 2. Analysis Task: Calculate Total Revenue ---\n",
        "# Goal: Sum the total revenue from all orders.\n",
        "# Revenue for each order = product_quantity * product_price\n",
        "\n",
        "total_revenue = 0.0\n",
        "\n",
        "# Create a dictionary for quick product price lookup\n",
        "# This avoids iterating through the 'products' list for every order,\n",
        "# making the lookup much more efficient (O(1) average time complexity).\n",
        "product_prices = {product['product_id']: product['price'] for product in products}\n",
        "\n",
        "# Iterate through each order\n",
        "for order in orders:\n",
        "    product_id = order['product_id']\n",
        "    quantity = order['quantity']\n",
        "\n",
        "    # Get the price using the product_prices dictionary\n",
        "    # Use .get() with a default of 0.0 in case a product_id is not found (error handling)\n",
        "    price = product_prices.get(product_id, 0.0)\n",
        "\n",
        "    # Calculate the subtotal for the current order\n",
        "    order_subtotal = quantity * price\n",
        "    total_revenue += order_subtotal\n",
        "\n",
        "print(f\"\\n--- Analysis Result: Total Revenue ---\")\n",
        "print(f\"Total revenue generated from all orders: ${total_revenue:,.2f}\")"
      ],
      "metadata": {
        "colab": {
          "base_uri": "https://localhost:8080/"
        },
        "id": "LZ3nlsWHOjJh",
        "outputId": "a731a142-31ff-4de1-8ce1-b7865339fac6"
      },
      "execution_count": 3,
      "outputs": [
        {
          "output_type": "stream",
          "name": "stdout",
          "text": [
            "\n",
            "--- Analysis Result: Total Revenue ---\n",
            "Total revenue generated from all orders: $5,001.50\n"
          ]
        }
      ]
    },
    {
      "cell_type": "code",
      "source": [
        "# --- 3. Analysis Task: Customer Spending Summary ---\n",
        "# Goal: Calculate the total amount each customer has spent.\n",
        "# This will involve aggregating spending by customer ID and then\n",
        "# mapping customer IDs back to customer names.\n",
        "\n",
        "customer_spending = {} # Dictionary to store total spending per customer_id\n",
        "\n",
        "# Iterate through each order to sum up spending per customer\n",
        "for order in orders:\n",
        "    customer_id = order['customer_id']\n",
        "    product_id = order['product_id']\n",
        "    quantity = order['quantity']\n",
        "\n",
        "    # Get the price using the pre-built product_prices dictionary\n",
        "    price = product_prices.get(product_id, 0.0)\n",
        "\n",
        "    order_total = quantity * price\n",
        "\n",
        "    # Add the order total to the customer's cumulative spending\n",
        "    # If customer_id is not yet in customer_spending, it initializes to 0 first.\n",
        "    customer_spending[customer_id] = customer_spending.get(customer_id, 0.0) + order_total\n",
        "\n",
        "# Create a dictionary for quick customer name lookup\n",
        "customer_names = {customer['customer_id']: customer['name'] for customer in customers}\n",
        "\n",
        "print(f\"\\n--- Analysis Result: Customer Spending Summary ---\")\n",
        "# Print the total spending for each customer, using their name\n",
        "for customer_id, total_spent in customer_spending.items():\n",
        "    customer_name = customer_names.get(customer_id, f\"Unknown Customer ({customer_id})\")\n",
        "    print(f\"{customer_name} (ID: {customer_id}) spent: ${total_spent:,.2f}\")"
      ],
      "metadata": {
        "colab": {
          "base_uri": "https://localhost:8080/"
        },
        "id": "znWKGPceOvmp",
        "outputId": "5fa59014-9050-4a16-e421-f672aea13773"
      },
      "execution_count": 4,
      "outputs": [
        {
          "output_type": "stream",
          "name": "stdout",
          "text": [
            "\n",
            "--- Analysis Result: Customer Spending Summary ---\n",
            "Alice (ID: 1) spent: $1,450.50\n",
            "Bob (ID: 2) spent: $201.00\n",
            "David (ID: 4) spent: $1,350.00\n",
            "Carol (ID: 3) spent: $300.00\n",
            "Eve (ID: 5) spent: $150.00\n",
            "Frank (ID: 6) spent: $1,200.00\n",
            "Grace (ID: 7) spent: $50.00\n",
            "Henry (ID: 8) spent: $300.00\n"
          ]
        }
      ]
    },
    {
      "cell_type": "code",
      "source": [
        "# --- 4. Analysis Task: Most Popular Product (by quantity sold) ---\n",
        "# Goal: Identify the product that has been sold the most in terms of total quantity.\n",
        "\n",
        "product_quantities = {} # Dictionary to store total quantity sold per product_id\n",
        "\n",
        "# Iterate through each order to sum up quantities per product\n",
        "for order in orders:\n",
        "    product_id = order['product_id']\n",
        "    quantity = order['quantity']\n",
        "\n",
        "    # Add the current order's quantity to the product's cumulative quantity\n",
        "    product_quantities[product_id] = product_quantities.get(product_id, 0) + quantity\n",
        "\n",
        "# Find the product(s) with the maximum quantity sold\n",
        "if product_quantities: # Ensure the dictionary is not empty\n",
        "    max_quantity = 0\n",
        "    most_popular_product_ids = []\n",
        "\n",
        "    # Find the maximum quantity\n",
        "    for product_id, total_qty in product_quantities.items():\n",
        "        if total_qty > max_quantity:\n",
        "            max_quantity = total_qty\n",
        "\n",
        "    # Collect all product IDs that match the max_quantity (in case of ties)\n",
        "    for product_id, total_qty in product_quantities.items():\n",
        "        if total_qty == max_quantity:\n",
        "            most_popular_product_ids.append(product_id)\n",
        "\n",
        "    # Create a dictionary for quick product name lookup\n",
        "    product_names = {product['product_id']: product['name'] for product in products}\n",
        "\n",
        "    print(f\"\\n--- Analysis Result: Most Popular Product (by Quantity) ---\")\n",
        "    print(f\"Products with the highest quantity sold ({max_quantity} units):\")\n",
        "    for prod_id in most_popular_product_ids:\n",
        "        product_name = product_names.get(prod_id, f\"Unknown Product ({prod_id})\")\n",
        "        print(f\"- {product_name} (ID: {prod_id})\")\n",
        "else:\n",
        "    print(f\"\\n--- Analysis Result: Most Popular Product (by Quantity) ---\")\n",
        "    print(\"No orders found to determine the most popular product.\")"
      ],
      "metadata": {
        "colab": {
          "base_uri": "https://localhost:8080/"
        },
        "id": "tm7w-TXkO_lo",
        "outputId": "556b628b-a80e-4847-f59c-1c49b1ddea59"
      },
      "execution_count": 5,
      "outputs": [
        {
          "output_type": "stream",
          "name": "stdout",
          "text": [
            "\n",
            "--- Analysis Result: Most Popular Product (by Quantity) ---\n",
            "Products with the highest quantity sold (4 units):\n",
            "- Webcam (ID: 105)\n"
          ]
        }
      ]
    },
    {
      "cell_type": "code",
      "source": [
        "# --- 5. Analysis Task: Filtered Customers (e.g., customers above a certain age who have placed orders) ---\n",
        "# Goal: Find customers who are older than a specified age AND have at least one order.\n",
        "\n",
        "min_age_filter = 25 # Define the minimum age for filtering\n",
        "\n",
        "# First, get a set of all customer IDs who have placed orders\n",
        "# Using a set for O(1) average time complexity lookup\n",
        "customers_with_orders = {order['customer_id'] for order in orders}\n",
        "\n",
        "filtered_customers = [] # List to store the details of customers who meet the criteria\n",
        "\n",
        "# Iterate through each customer\n",
        "for customer in customers:\n",
        "    customer_id = customer['customer_id']\n",
        "    customer_age = customer['age']\n",
        "\n",
        "    # Check if the customer meets both criteria:\n",
        "    # 1. Age is greater than min_age_filter\n",
        "    # 2. Customer ID is present in the set of customers who have placed orders\n",
        "    if customer_age > min_age_filter and customer_id in customers_with_orders:\n",
        "        filtered_customers.append(customer)\n",
        "\n",
        "print(f\"\\n--- Analysis Result: Filtered Customers ---\")\n",
        "if filtered_customers:\n",
        "    print(f\"Customers older than {min_age_filter} who have placed orders:\")\n",
        "    for customer in filtered_customers:\n",
        "        print(f\"- Name: {customer['name']}, Age: {customer['age']}, ID: {customer['customer_id']}\")\n",
        "else:\n",
        "    print(f\"No customers found older than {min_age_filter} who have placed orders.\")"
      ],
      "metadata": {
        "colab": {
          "base_uri": "https://localhost:8080/"
        },
        "id": "rLi7FXSkPOEl",
        "outputId": "c4693639-aedb-4084-bf32-51dd41722acd"
      },
      "execution_count": 6,
      "outputs": [
        {
          "output_type": "stream",
          "name": "stdout",
          "text": [
            "\n",
            "--- Analysis Result: Filtered Customers ---\n",
            "Customers older than 25 who have placed orders:\n",
            "- Name: Alice, Age: 30, ID: 1\n",
            "- Name: Carol, Age: 35, ID: 3\n",
            "- Name: David, Age: 29, ID: 4\n",
            "- Name: Frank, Age: 40, ID: 6\n",
            "- Name: Grace, Age: 28, ID: 7\n",
            "- Name: Henry, Age: 32, ID: 8\n"
          ]
        }
      ]
    },
    {
      "cell_type": "code",
      "source": [],
      "metadata": {
        "id": "EUrHdovSPgSQ"
      },
      "execution_count": null,
      "outputs": []
    }
  ]
}